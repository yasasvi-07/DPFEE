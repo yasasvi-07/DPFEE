{
 "cells": [
  {
   "cell_type": "code",
   "execution_count": 2,
   "id": "439e9c11-b9b4-4b1e-8d9a-40dfb4d324ee",
   "metadata": {},
   "outputs": [],
   "source": [
    "#binning"
   ]
  },
  {
   "cell_type": "code",
   "execution_count": 15,
   "id": "5aaeb314-e4c9-4f1b-9f6e-a07877fe9cbd",
   "metadata": {},
   "outputs": [
    {
     "data": {
      "text/plain": [
       "1"
      ]
     },
     "execution_count": 15,
     "metadata": {},
     "output_type": "execute_result"
    }
   ],
   "source": [
    "data=[1,2,3]\n",
    "m=min(data)\n",
    "m"
   ]
  },
  {
   "cell_type": "code",
   "execution_count": 33,
   "id": "b872f288-e32d-4296-ace3-a118465dc2d5",
   "metadata": {},
   "outputs": [
    {
     "name": "stdout",
     "output_type": "stream",
     "text": [
      "80 1\n",
      "Bin of children= [10, 1]\n",
      "bin off teen= [15, 18]\n",
      "bin of adult= [20]\n",
      "bin of old= [80]\n"
     ]
    }
   ],
   "source": [
    "def binning(data):\n",
    "    maximum_value=max(data)\n",
    "    minimum_value=min(data)\n",
    "    print(maximum_value,minimum_value)\n",
    "#child,teen,adult,old\n",
    "    child=[]#empty bin/list\n",
    "    teen=[]\n",
    "    adult=[]\n",
    "    old=[]\n",
    "    for i in data:\n",
    "        if i<=12:\n",
    "            child.append(i)# insert value in you list\n",
    "        elif i>12 and i<20:\n",
    "            teen.append(i)\n",
    "        elif i>=20 and i<45:\n",
    "            adult.append(i)\n",
    "        elif i>=45:\n",
    "            old.append(i)\n",
    "    print(\"Bin of children=\",child)\n",
    "    print(\"bin off teen=\",teen)\n",
    "    print(\"bin of adult=\",adult)\n",
    "    print(\"bin of old=\",old) \n",
    "age=[10,1,20,15,18,80]\n",
    "binning(age)\n",
    "    "
   ]
  },
  {
   "cell_type": "code",
   "execution_count": 36,
   "id": "5774b1a6-a7e7-4378-b77f-e34705f09858",
   "metadata": {},
   "outputs": [],
   "source": [
    "import pandas as pd"
   ]
  },
  {
   "cell_type": "code",
   "execution_count": 37,
   "id": "0d5a74ca-6409-43c5-b3c5-b5f4dfe59365",
   "metadata": {},
   "outputs": [],
   "source": [
    "from matplotlib import pyplot as plt"
   ]
  },
  {
   "cell_type": "code",
   "execution_count": 38,
   "id": "ddd41a05-1d67-4b0c-9f51-739712aeded0",
   "metadata": {},
   "outputs": [],
   "source": [
    "data=pd.read_excel(\"age.xlsx\")"
   ]
  },
  {
   "cell_type": "code",
   "execution_count": 39,
   "id": "bd18370c-bec3-42ef-9fec-c9fede87d76e",
   "metadata": {},
   "outputs": [],
   "source": [
    "age=data[\"age\"]"
   ]
  },
  {
   "cell_type": "code",
   "execution_count": 40,
   "id": "67753fe0-3ee6-4a91-b83f-689ecbe93aa0",
   "metadata": {},
   "outputs": [
    {
     "data": {
      "text/plain": [
       "0    11\n",
       "1    12\n",
       "2    13\n",
       "3    45\n",
       "4    75\n",
       "5    96\n",
       "Name: age, dtype: int64"
      ]
     },
     "execution_count": 40,
     "metadata": {},
     "output_type": "execute_result"
    }
   ],
   "source": [
    "age"
   ]
  },
  {
   "cell_type": "code",
   "execution_count": 44,
   "id": "39debdf9-5d28-4309-9ec4-6942c668e60b",
   "metadata": {},
   "outputs": [
    {
     "data": {
      "image/png": "[encoded data removed]",
      "text/plain": [
       "<Figure size 432x288 with 1 Axes>"
      ]
     },
     "metadata": {
      "needs_background": "light"
     },
     "output_type": "display_data"
    }
   ],
   "source": [
    "plt.hist(age,bins=[10,15,20,25,30,40,50,60,70,80,90,100],color=\"black\")\n",
    "plt.xlabel(\"age\")\n",
    "plt.title(\"depicting age of students\")\n",
    "plt.show()"
   ]
  },
  {
   "cell_type": "code",
   "execution_count": null,
   "id": "6f80c8c9-d252-46aa-82cb-32f6a05b9ae4",
   "metadata": {},
   "outputs": [],
   "source": []
  },
  {
   "cell_type": "code",
   "execution_count": null,
   "id": "f26dc56f-e271-43ac-bb1c-57e71ab343a0",
   "metadata": {},
   "outputs": [],
   "source": []
  }
 ],
 "metadata": {
  "kernelspec": {
   "display_name": "Python 3 (ipykernel)",
   "language": "python",
   "name": "python3"
  },
  "language_info": {
   "codemirror_mode": {
    "name": "ipython",
    "version": 3
   },
   "file_extension": ".py",
   "mimetype": "text/x-python",
   "name": "python",
   "nbconvert_exporter": "python",
   "pygments_lexer": "ipython3",
   "version": "3.9.12"
  }
 },
 "nbformat": 4,
 "nbformat_minor": 5
}
